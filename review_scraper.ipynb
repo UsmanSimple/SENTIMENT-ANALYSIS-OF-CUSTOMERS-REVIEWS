{
  "cells": [
    {
      "cell_type": "code",
      "execution_count": null,
      "metadata": {
        "colab": {
          "base_uri": "https://localhost:8080/"
        },
        "id": "zvWO_pZHPIE9",
        "outputId": "3164516e-583c-42ad-f778-9e7a2f667770"
      },
      "outputs": [
        {
          "name": "stdout",
          "output_type": "stream",
          "text": [
            "Mounted at /content/drive\n"
          ]
        }
      ],
      "source": [
        "#from google.colab import drive\n",
        "# drive.mount('/content/drive')\n"
      ]
    },
    {
      "cell_type": "markdown",
      "metadata": {
        "id": "gHmnWYR9bd1Y"
      },
      "source": [
        "SENTIMENT ANALYSIS ON GOOGLE APP REVIEWS ON TOP 10 FINTECH STARTUPS IN AFICA WITH MACHINE LEARNING AND DEEP LEARNING\n"
      ]
    },
    {
      "cell_type": "markdown",
      "metadata": {
        "id": "cTR32slrpAKk"
      },
      "source": [
        "INSTALL SOME OF THE LIBRARIES REQUIRED \n",
        "\n"
      ]
    },
    {
      "cell_type": "code",
      "execution_count": 1,
      "metadata": {
        "id": "ibu9ueZTnQMH"
      },
      "outputs": [],
      "source": [
        "%pip install -qq google-play-scraper"
      ]
    },
    {
      "cell_type": "code",
      "execution_count": 32,
      "metadata": {
        "colab": {
          "base_uri": "https://localhost:8080/"
        },
        "id": "mq-czvrGnblH",
        "outputId": "1abbd9a6-c979-4b58-cb0e-f36acc4d8b78"
      },
      "outputs": [
        {
          "name": "stdout",
          "output_type": "stream",
          "text": [
            "Looking in indexes: https://pypi.org/simple, https://us-python.pkg.dev/colab-wheels/public/simple/\n",
            "Requirement already satisfied: pycountry in /usr/local/lib/python3.7/dist-packages (22.3.5)\n",
            "Requirement already satisfied: setuptools in /usr/local/lib/python3.7/dist-packages (from pycountry) (57.4.0)\n"
          ]
        }
      ],
      "source": [
        "%pip install pycountry"
      ]
    },
    {
      "cell_type": "code",
      "execution_count": 39,
      "metadata": {
        "id": "e1-xToWGpXwV"
      },
      "outputs": [],
      "source": [
        "# import the necessary modules\n",
        "import json\n",
        "import pandas as pd\n",
        "import seaborn as sns\n",
        "import matplotlib.pyplot as plt\n",
        "\n",
        "from pygments import highlight\n",
        "from pygments.formatters import TerminalFormatter\n",
        "from pygments.lexers import JsonLexer\n",
        "\n",
        "from tqdm import tqdm\n",
        "import pycountry as py\n",
        "\n",
        "from google_play_scraper import Sort, reviews, app\n",
        "\n",
        "%matplotlib inline\n",
        "sns.set(style = 'whitegrid', palette = 'muted')\n"
      ]
    },
    {
      "cell_type": "code",
      "execution_count": 64,
      "metadata": {
        "id": "nLpy_t-6ry6X"
      },
      "outputs": [],
      "source": [
        "name_of_fintech = ['Flutter wave',  'Opay', 'Palm Pay', 'Chipper Cash', 'Interswitch', 'PiggyVest', 'Paga',  'Kuda bank' ]\n",
        "countries = ['Nigeria','Kenya', 'Ghana', 'South Africa']\n",
        "app_package_id = [\n",
        "               'com.flutterwave.flybarter',\n",
        "               'team.opay.pay',\n",
        "               'com.transsnet.palmpay',\n",
        "               'com.chippercash',\n",
        "               'com.quickteller.app',\n",
        "               'com.piggybankng.piggy',\n",
        "               'com.mypaga.customer',\n",
        "               'com.kudabank.app'\n",
        "]"
      ]
    },
    {
      "cell_type": "code",
      "execution_count": 73,
      "metadata": {
        "colab": {
          "base_uri": "https://localhost:8080/"
        },
        "id": "oSP2IIRmvGQW",
        "outputId": "e74eabdb-fc41-4d03-fdef-11a2e75bc71a"
      },
      "outputs": [
        {
          "name": "stderr",
          "output_type": "stream",
          "text": [
            "100%|██████████| 8/8 [00:07<00:00,  1.11it/s]\n"
          ]
        }
      ],
      "source": [
        "data = []\n",
        "for ap in tqdm(app_package_id):\n",
        "  value = []\n",
        "  for country in countries:\n",
        "    ccode = py.countries.search_fuzzy(country)[0].alpha_2.lower()\n",
        "    var = app(ap, lang = 'en', country = ccode)\n",
        "    value.append(var['reviews'])\n",
        "  data.append(value)\n"
      ]
    },
    {
      "cell_type": "code",
      "execution_count": 74,
      "metadata": {
        "id": "1D0xKoBRvGSx"
      },
      "outputs": [],
      "source": [
        "df = pd.DataFrame(data, columns = countries, index = name_of_fintech)"
      ]
    },
    {
      "cell_type": "code",
      "execution_count": 75,
      "metadata": {
        "colab": {
          "base_uri": "https://localhost:8080/",
          "height": 300
        },
        "id": "pah8lZ2aAglI",
        "outputId": "d456fac3-d256-42b8-c55f-08b192481ebd"
      },
      "outputs": [
        {
          "data": {
            "text/html": [
              "\n",
              "  <div id=\"df-8dbb9522-91c1-4460-bd98-074b87683a50\">\n",
              "    <div class=\"colab-df-container\">\n",
              "      <div>\n",
              "<style scoped>\n",
              "    .dataframe tbody tr th:only-of-type {\n",
              "        vertical-align: middle;\n",
              "    }\n",
              "\n",
              "    .dataframe tbody tr th {\n",
              "        vertical-align: top;\n",
              "    }\n",
              "\n",
              "    .dataframe thead th {\n",
              "        text-align: right;\n",
              "    }\n",
              "</style>\n",
              "<table border=\"1\" class=\"dataframe\">\n",
              "  <thead>\n",
              "    <tr style=\"text-align: right;\">\n",
              "      <th></th>\n",
              "      <th>Nigeria</th>\n",
              "      <th>Kenya</th>\n",
              "      <th>Ghana</th>\n",
              "      <th>South Africa</th>\n",
              "    </tr>\n",
              "  </thead>\n",
              "  <tbody>\n",
              "    <tr>\n",
              "      <th>Flutter wave</th>\n",
              "      <td>4357</td>\n",
              "      <td>184</td>\n",
              "      <td>270</td>\n",
              "      <td>24</td>\n",
              "    </tr>\n",
              "    <tr>\n",
              "      <th>Opay</th>\n",
              "      <td>108649</td>\n",
              "      <td>12</td>\n",
              "      <td>135</td>\n",
              "      <td>14</td>\n",
              "    </tr>\n",
              "    <tr>\n",
              "      <th>Palm Pay</th>\n",
              "      <td>76013</td>\n",
              "      <td>6</td>\n",
              "      <td>2993</td>\n",
              "      <td>14</td>\n",
              "    </tr>\n",
              "    <tr>\n",
              "      <th>Chipper Cash</th>\n",
              "      <td>21775</td>\n",
              "      <td>4711</td>\n",
              "      <td>2186</td>\n",
              "      <td>1827</td>\n",
              "    </tr>\n",
              "    <tr>\n",
              "      <th>Interswitch</th>\n",
              "      <td>1882</td>\n",
              "      <td>0</td>\n",
              "      <td>6</td>\n",
              "      <td>0</td>\n",
              "    </tr>\n",
              "    <tr>\n",
              "      <th>PiggyVest</th>\n",
              "      <td>25052</td>\n",
              "      <td>9</td>\n",
              "      <td>61</td>\n",
              "      <td>24</td>\n",
              "    </tr>\n",
              "    <tr>\n",
              "      <th>Paga</th>\n",
              "      <td>4583</td>\n",
              "      <td>0</td>\n",
              "      <td>17</td>\n",
              "      <td>3</td>\n",
              "    </tr>\n",
              "    <tr>\n",
              "      <th>Kuda bank</th>\n",
              "      <td>66113</td>\n",
              "      <td>5</td>\n",
              "      <td>122</td>\n",
              "      <td>51</td>\n",
              "    </tr>\n",
              "  </tbody>\n",
              "</table>\n",
              "</div>\n",
              "      <button class=\"colab-df-convert\" onclick=\"convertToInteractive('df-8dbb9522-91c1-4460-bd98-074b87683a50')\"\n",
              "              title=\"Convert this dataframe to an interactive table.\"\n",
              "              style=\"display:none;\">\n",
              "        \n",
              "  <svg xmlns=\"http://www.w3.org/2000/svg\" height=\"24px\"viewBox=\"0 0 24 24\"\n",
              "       width=\"24px\">\n",
              "    <path d=\"M0 0h24v24H0V0z\" fill=\"none\"/>\n",
              "    <path d=\"M18.56 5.44l.94 2.06.94-2.06 2.06-.94-2.06-.94-.94-2.06-.94 2.06-2.06.94zm-11 1L8.5 8.5l.94-2.06 2.06-.94-2.06-.94L8.5 2.5l-.94 2.06-2.06.94zm10 10l.94 2.06.94-2.06 2.06-.94-2.06-.94-.94-2.06-.94 2.06-2.06.94z\"/><path d=\"M17.41 7.96l-1.37-1.37c-.4-.4-.92-.59-1.43-.59-.52 0-1.04.2-1.43.59L10.3 9.45l-7.72 7.72c-.78.78-.78 2.05 0 2.83L4 21.41c.39.39.9.59 1.41.59.51 0 1.02-.2 1.41-.59l7.78-7.78 2.81-2.81c.8-.78.8-2.07 0-2.86zM5.41 20L4 18.59l7.72-7.72 1.47 1.35L5.41 20z\"/>\n",
              "  </svg>\n",
              "      </button>\n",
              "      \n",
              "  <style>\n",
              "    .colab-df-container {\n",
              "      display:flex;\n",
              "      flex-wrap:wrap;\n",
              "      gap: 12px;\n",
              "    }\n",
              "\n",
              "    .colab-df-convert {\n",
              "      background-color: #E8F0FE;\n",
              "      border: none;\n",
              "      border-radius: 50%;\n",
              "      cursor: pointer;\n",
              "      display: none;\n",
              "      fill: #1967D2;\n",
              "      height: 32px;\n",
              "      padding: 0 0 0 0;\n",
              "      width: 32px;\n",
              "    }\n",
              "\n",
              "    .colab-df-convert:hover {\n",
              "      background-color: #E2EBFA;\n",
              "      box-shadow: 0px 1px 2px rgba(60, 64, 67, 0.3), 0px 1px 3px 1px rgba(60, 64, 67, 0.15);\n",
              "      fill: #174EA6;\n",
              "    }\n",
              "\n",
              "    [theme=dark] .colab-df-convert {\n",
              "      background-color: #3B4455;\n",
              "      fill: #D2E3FC;\n",
              "    }\n",
              "\n",
              "    [theme=dark] .colab-df-convert:hover {\n",
              "      background-color: #434B5C;\n",
              "      box-shadow: 0px 1px 3px 1px rgba(0, 0, 0, 0.15);\n",
              "      filter: drop-shadow(0px 1px 2px rgba(0, 0, 0, 0.3));\n",
              "      fill: #FFFFFF;\n",
              "    }\n",
              "  </style>\n",
              "\n",
              "      <script>\n",
              "        const buttonEl =\n",
              "          document.querySelector('#df-8dbb9522-91c1-4460-bd98-074b87683a50 button.colab-df-convert');\n",
              "        buttonEl.style.display =\n",
              "          google.colab.kernel.accessAllowed ? 'block' : 'none';\n",
              "\n",
              "        async function convertToInteractive(key) {\n",
              "          const element = document.querySelector('#df-8dbb9522-91c1-4460-bd98-074b87683a50');\n",
              "          const dataTable =\n",
              "            await google.colab.kernel.invokeFunction('convertToInteractive',\n",
              "                                                     [key], {});\n",
              "          if (!dataTable) return;\n",
              "\n",
              "          const docLinkHtml = 'Like what you see? Visit the ' +\n",
              "            '<a target=\"_blank\" href=https://colab.research.google.com/notebooks/data_table.ipynb>data table notebook</a>'\n",
              "            + ' to learn more about interactive tables.';\n",
              "          element.innerHTML = '';\n",
              "          dataTable['output_type'] = 'display_data';\n",
              "          await google.colab.output.renderOutput(dataTable, element);\n",
              "          const docLink = document.createElement('div');\n",
              "          docLink.innerHTML = docLinkHtml;\n",
              "          element.appendChild(docLink);\n",
              "        }\n",
              "      </script>\n",
              "    </div>\n",
              "  </div>\n",
              "  "
            ],
            "text/plain": [
              "              Nigeria  Kenya  Ghana  South Africa\n",
              "Flutter wave     4357    184    270            24\n",
              "Opay           108649     12    135            14\n",
              "Palm Pay        76013      6   2993            14\n",
              "Chipper Cash    21775   4711   2186          1827\n",
              "Interswitch      1882      0      6             0\n",
              "PiggyVest       25052      9     61            24\n",
              "Paga             4583      0     17             3\n",
              "Kuda bank       66113      5    122            51"
            ]
          },
          "execution_count": 75,
          "metadata": {},
          "output_type": "execute_result"
        }
      ],
      "source": [
        "df"
      ]
    },
    {
      "cell_type": "code",
      "execution_count": 76,
      "metadata": {
        "colab": {
          "base_uri": "https://localhost:8080/",
          "height": 599
        },
        "id": "8iyhzoT01GR7",
        "outputId": "d998c1c8-a657-4fd5-bb20-5a935e2837ee"
      },
      "outputs": [
        {
          "data": {
            "text/plain": [
              "<matplotlib.axes._subplots.AxesSubplot at 0x7f0c490de1d0>"
            ]
          },
          "execution_count": 76,
          "metadata": {},
          "output_type": "execute_result"
        },
        {
          "data": {
            "image/png": "[encoded data removed]",
            "text/plain": [
              "<Figure size 720x576 with 1 Axes>"
            ]
          },
          "metadata": {},
          "output_type": "display_data"
        }
      ],
      "source": [
        "new_df = df.copy()\n",
        "new_df.fillna(0, inplace = True)\n",
        "new_df.plot.bar(stacked = True,\n",
        "                title ='Plot of Frequency of Google App Reviews of FinTech companies',\n",
        "                ylabel = 'Frequency',\n",
        "                xlabel = 'FinTech Company',\n",
        "                figsize = (10,8))\n",
        "\n"
      ]
    },
    {
      "cell_type": "markdown",
      "metadata": {
        "id": "Hm8zN_DmFS1u"
      },
      "source": [
        "From the plot above it was shown that Nigeria has the most reviews for each of the FInTech app in Google Play Store.\n",
        "Therefore, I will scrape only the reviews in the country"
      ]
    },
    {
      "cell_type": "markdown",
      "metadata": {
        "id": "vz6DQVMqFuHI"
      },
      "source": [
        "Info about the app"
      ]
    },
    {
      "cell_type": "code",
      "execution_count": 77,
      "metadata": {
        "colab": {
          "base_uri": "https://localhost:8080/"
        },
        "id": "X21QwckGxvVh",
        "outputId": "1936e2ba-93ee-49a3-89a7-bd72f27f9ce7"
      },
      "outputs": [
        {
          "name": "stderr",
          "output_type": "stream",
          "text": [
            "100%|██████████| 8/8 [00:01<00:00,  7.18it/s]\n"
          ]
        }
      ],
      "source": [
        "app_infos = []\n",
        "\n",
        "for ap in tqdm(app_package_id):\n",
        "  info = app(ap, lang= 'en', country = 'ng')\n",
        "  del info['comments']\n",
        "  app_infos.append(info)"
      ]
    },
    {
      "cell_type": "code",
      "execution_count": 78,
      "metadata": {
        "id": "J_tfZyoBqE3r"
      },
      "outputs": [],
      "source": [
        "# function to beautify the json response from the reviews\n",
        "def print_json(json_object):\n",
        "  json_str = json.dumps(\n",
        "      json_object,\n",
        "      indent = 2,\n",
        "      sort_keys = True,\n",
        "      default=str\n",
        "  )\n",
        "  print(highlight(json_str, JsonLexer(), TerminalFormatter()))"
      ]
    },
    {
      "cell_type": "code",
      "execution_count": 79,
      "metadata": {
        "colab": {
          "base_uri": "https://localhost:8080/"
        },
        "id": "PH2FjixLrQVg",
        "outputId": "83ed1dab-b73d-49b6-c335-830f4473f0a3"
      },
      "outputs": [
        {
          "name": "stdout",
          "output_type": "stream",
          "text": [
            "{\n",
            "  \u001b[94m\"adSupported\"\u001b[39;49;00m: \u001b[34mfalse\u001b[39;49;00m,\n",
            "  \u001b[94m\"appId\"\u001b[39;49;00m: \u001b[33m\"com.kudabank.app\"\u001b[39;49;00m,\n",
            "  \u001b[94m\"containsAds\"\u001b[39;49;00m: \u001b[34mfalse\u001b[39;49;00m,\n",
            "  \u001b[94m\"contentRating\"\u001b[39;49;00m: \u001b[33m\"Rated for 3+\"\u001b[39;49;00m,\n",
            "  \u001b[94m\"contentRatingDescription\"\u001b[39;49;00m: \u001b[34mnull\u001b[39;49;00m,\n",
            "  \u001b[94m\"currency\"\u001b[39;49;00m: \u001b[33m\"NGN\"\u001b[39;49;00m,\n",
            "  \u001b[94m\"description\"\u001b[39;49;00m: \u001b[33m\"Welcome to your freedom!\\r\\n\\r\\nKuda - the bank that doesn't cost anything. An exciting new banking experience designed specifically for you. Sign up today.\\r\\n\\r\\nYou're busy and we've got you covered. Kuda gives Nigerians an easy way to manage their money by using mobile banking apps on their smartphones. Download the app today, open an account on your phone and request a free debit card!\\r\\n\\r\\nKeep up with your finances without losing sleep. No card maintenance fees, free transfers and automatic savings \\u2014 Kuda gives you everything you need to stay on top of your money. Download the app today.\\r\\n\\r\\nThis is Kuda, the free digital bank with a microfinance banking license from the Central Bank of Nigeria.\\r\\n\\r\\nKuda helps you save more money and take control of your finances.\\r\\n\\r\\nWhy Should You Use Kuda?\\r\\n- Open an account in minutes.\\r\\n- Kuda has 25 free transfers every month, and free debit and credit alerts.\\r\\n- Save and plan easily with our saving and budgeting features \\u2013 get up to 15% annual interest!\\r\\n- Qualify for instant overdrafts when you use your Kuda account regularly and borrow money whenever you need it.\\r\\n \\r\\nOpen A Free Account Now\\r\\n- We know that every naira is important, so we won\\u2019t charge you for card maintenance or account maintenance. We'll even deliver a free debit card to you, free of charge.\\r\\n\\r\\nWatch Your Money Grow\\r\\n- Kuda helps you plan your finances and save for your future.\\r\\n- Take control of your spending with smart budgeting on Kuda, then set a percentage to save automatically and watch your money grow.\\r\\n- You can also save every time you spend directly from your account with Kuda Spend+Save. It's the smartest way to save!\\r\\n- We'll reward you with up to 15% annual interest on your savings, so your money keeps making money.\\r\\n\\r\\nYour Money Is Safe At Kuda\\r\\n- We know debit cards go missing sometimes. That's why you can block your card on the app (and unblock it if you find it).\\r\\n- Use Private Mode to hide your account balance.\\r\\n- If you need help, you can chat with us on the app or send a message to help@kudabank.com anytime.\\r\\n\\r\\nMove To Kuda In Two Easy Steps:\\r\\n1. Open your account: Download the app and sign up.\\r\\n2. Add money to your account: Add a debit card, send money to your Kuda account from another bank\\u2019s app or through internet banking, send money by USSD or deposit cash at our partner banks.\\r\\n\\r\\nFor more information about Kuda, please go to help.kudabank.com.\\r\\n\\r\\nSpend smarter, save better and get the most out of your money with Kuda.\\r\\n\\r\\nDownload Kuda now.\"\u001b[39;49;00m,\n",
            "  \u001b[94m\"descriptionHTML\"\u001b[39;49;00m: \u001b[33m\"Welcome to your freedom!<br><br>Kuda - the bank that doesn&#39;t cost anything. An exciting new banking experience designed specifically for you. Sign up today.<br><br>You&#39;re busy and we&#39;ve got you covered. Kuda gives Nigerians an easy way to manage their money by using mobile banking apps on their smartphones. Download the app today, open an account on your phone and request a free debit card!<br><br>Keep up with your finances without losing sleep. No card maintenance fees, free transfers and automatic savings \\u2014 Kuda gives you everything you need to stay on top of your money. Download the app today.<br><br>This is Kuda, the free digital bank with a microfinance banking license from the Central Bank of Nigeria.<br><br>Kuda helps you save more money and take control of your finances.<br><br>Why Should You Use Kuda?<br>- Open an account in minutes.<br>- Kuda has 25 free transfers every month, and free debit and credit alerts.<br>- Save and plan easily with our saving and budgeting features \\u2013 get up to 15% annual interest!<br>- Qualify for instant overdrafts when you use your Kuda account regularly and borrow money whenever you need it.<br> <br>Open A Free Account Now<br>- We know that every naira is important, so we won\\u2019t charge you for card maintenance or account maintenance. We&#39;ll even deliver a free debit card to you, free of charge.<br><br>Watch Your Money Grow<br>- Kuda helps you plan your finances and save for your future.<br>- Take control of your spending with smart budgeting on Kuda, then set a percentage to save automatically and watch your money grow.<br>- You can also save every time you spend directly from your account with Kuda Spend+Save. It&#39;s the smartest way to save!<br>- We&#39;ll reward you with up to 15% annual interest on your savings, so your money keeps making money.<br><br>Your Money Is Safe At Kuda<br>- We know debit cards go missing sometimes. That&#39;s why you can block your card on the app (and unblock it if you find it).<br>- Use Private Mode to hide your account balance.<br>- If you need help, you can chat with us on the app or send a message to help@kudabank.com anytime.<br><br>Move To Kuda In Two Easy Steps:<br>1. Open your account: Download the app and sign up.<br>2. Add money to your account: Add a debit card, send money to your Kuda account from another bank\\u2019s app or through internet banking, send money by USSD or deposit cash at our partner banks.<br><br>For more information about Kuda, please go to help.kudabank.com.<br><br>Spend smarter, save better and get the most out of your money with Kuda.<br><br>Download Kuda now.\"\u001b[39;49;00m,\n",
            "  \u001b[94m\"developer\"\u001b[39;49;00m: \u001b[33m\"Kuda Technologies Ltd\"\u001b[39;49;00m,\n",
            "  \u001b[94m\"developerAddress\"\u001b[39;49;00m: \u001b[34mnull\u001b[39;49;00m,\n",
            "  \u001b[94m\"developerEmail\"\u001b[39;49;00m: \u001b[33m\"help@kudabank.com\"\u001b[39;49;00m,\n",
            "  \u001b[94m\"developerId\"\u001b[39;49;00m: \u001b[33m\"Kuda+Technologies+Ltd\"\u001b[39;49;00m,\n",
            "  \u001b[94m\"developerWebsite\"\u001b[39;49;00m: \u001b[33m\"https://kudabank.com/\"\u001b[39;49;00m,\n",
            "  \u001b[94m\"free\"\u001b[39;49;00m: \u001b[34mtrue\u001b[39;49;00m,\n",
            "  \u001b[94m\"genre\"\u001b[39;49;00m: \u001b[33m\"Finance\"\u001b[39;49;00m,\n",
            "  \u001b[94m\"genreId\"\u001b[39;49;00m: \u001b[33m\"FINANCE\"\u001b[39;49;00m,\n",
            "  \u001b[94m\"headerImage\"\u001b[39;49;00m: \u001b[33m\"https://play-lh.googleusercontent.com/B8rSdsJ_ZaEo5iYYYY_Fru7wcj0MKxmRc93RYDhkroSLZeSPOL0gotxcgI80dWKLPMg\"\u001b[39;49;00m,\n",
            "  \u001b[94m\"histogram\"\u001b[39;49;00m: [\n",
            "    \u001b[34m9691\u001b[39;49;00m,\n",
            "    \u001b[34m4003\u001b[39;49;00m,\n",
            "    \u001b[34m9575\u001b[39;49;00m,\n",
            "    \u001b[34m20731\u001b[39;49;00m,\n",
            "    \u001b[34m107498\u001b[39;49;00m\n",
            "  ],\n",
            "  \u001b[94m\"icon\"\u001b[39;49;00m: \u001b[33m\"https://play-lh.googleusercontent.com/C7ojJSQlm0ae8xRxH7kiET-PxIHSZfk2BQ8-ipu0H7EiUnIcgpgDmHLVfZyIEj7wzxrY\"\u001b[39;49;00m,\n",
            "  \u001b[94m\"inAppProductPrice\"\u001b[39;49;00m: \u001b[34mnull\u001b[39;49;00m,\n",
            "  \u001b[94m\"installs\"\u001b[39;49;00m: \u001b[33m\"1,000,000+\"\u001b[39;49;00m,\n",
            "  \u001b[94m\"minInstalls\"\u001b[39;49;00m: \u001b[34m1000000\u001b[39;49;00m,\n",
            "  \u001b[94m\"offersIAP\"\u001b[39;49;00m: \u001b[34mfalse\u001b[39;49;00m,\n",
            "  \u001b[94m\"originalPrice\"\u001b[39;49;00m: \u001b[34mnull\u001b[39;49;00m,\n",
            "  \u001b[94m\"price\"\u001b[39;49;00m: \u001b[34m0\u001b[39;49;00m,\n",
            "  \u001b[94m\"privacyPolicy\"\u001b[39;49;00m: \u001b[33m\"https://docs.google.com/document/d/1M5VJXNEgpYXGEagch-XugOez-ZpRMZQiYLjAmH8GLTY/edit\"\u001b[39;49;00m,\n",
            "  \u001b[94m\"ratings\"\u001b[39;49;00m: \u001b[34m151505\u001b[39;49;00m,\n",
            "  \u001b[94m\"realInstalls\"\u001b[39;49;00m: \u001b[34m4824187\u001b[39;49;00m,\n",
            "  \u001b[94m\"recentChanges\"\u001b[39;49;00m: \u001b[33m\"We made things better, fixed a few bugs and refreshed appearances. You might not notice anything this time but there are more noticeable updates coming. Take care!\"\u001b[39;49;00m,\n",
            "  \u001b[94m\"recentChangesHTML\"\u001b[39;49;00m: \u001b[33m\"We made things better, fixed a few bugs and refreshed appearances. You might not notice anything this time but there are more noticeable updates coming. Take care!\"\u001b[39;49;00m,\n",
            "  \u001b[94m\"released\"\u001b[39;49;00m: \u001b[33m\"Aug 5, 2019\"\u001b[39;49;00m,\n",
            "  \u001b[94m\"reviews\"\u001b[39;49;00m: \u001b[34m66113\u001b[39;49;00m,\n",
            "  \u001b[94m\"sale\"\u001b[39;49;00m: \u001b[34mfalse\u001b[39;49;00m,\n",
            "  \u001b[94m\"saleText\"\u001b[39;49;00m: \u001b[34mnull\u001b[39;49;00m,\n",
            "  \u001b[94m\"saleTime\"\u001b[39;49;00m: \u001b[34mnull\u001b[39;49;00m,\n",
            "  \u001b[94m\"score\"\u001b[39;49;00m: \u001b[34m4.4015594\u001b[39;49;00m,\n",
            "  \u001b[94m\"screenshots\"\u001b[39;49;00m: [\n",
            "    \u001b[33m\"https://play-lh.googleusercontent.com/US4QGuZt6BpX9-hCLaxrNIEhsxP-etE8BINZdbPw1OOHHZf40VE2tAJEIMdpEXvUR_0\"\u001b[39;49;00m,\n",
            "    \u001b[33m\"https://play-lh.googleusercontent.com/lfQB2WEnT3exVVgAEuwSVrvcrTksouTu-cPI1tMS5hy1SiCpRp8fYGe9Li1055hR4U0\"\u001b[39;49;00m,\n",
            "    \u001b[33m\"https://play-lh.googleusercontent.com/o-qTaBVGEVXOkkKFmdtZG2x06aBmNSQJqKWajD1eG8QbsPQhvxGJZ5Ea8PnT89G5uTma\"\u001b[39;49;00m,\n",
            "    \u001b[33m\"https://play-lh.googleusercontent.com/fqOiiK-sOwPmDeqhfL5xbsuiC3bojH6i6V57CvWuRy_j_4pd5vofJFcTpriVxLd2yQg\"\u001b[39;49;00m,\n",
            "    \u001b[33m\"https://play-lh.googleusercontent.com/Ko5YkOdSEAD-ERh8448bw36kkJvV2oI_Collud0mA5CztruneWQlRFV6UvGREpOo2Ltu\"\u001b[39;49;00m,\n",
            "    \u001b[33m\"https://play-lh.googleusercontent.com/ZIlCBbb2tohJBmA747F19hQUgHMX3osOikJvcFqQGuIlhsGzA3G4CYAHEd8_G63aE0M\"\u001b[39;49;00m,\n",
            "    \u001b[33m\"https://play-lh.googleusercontent.com/MS3FfXII3642d9uHuu3iAnWTe-xD5_YcyPY5i1KKV-JX09q97G26OCr-dzx5ATpRHw\"\u001b[39;49;00m,\n",
            "    \u001b[33m\"https://play-lh.googleusercontent.com/L5A_qLRa2zrydEzc7mmVC4ZFccMrGtzWfqouv9J43toB4YZHfN4wLkNOG7R0LSDvJso\"\u001b[39;49;00m\n",
            "  ],\n",
            "  \u001b[94m\"summary\"\u001b[39;49;00m: \u001b[33m\"Simplify your finances with Kuda and say goodbye to card maintenance fees.\"\u001b[39;49;00m,\n",
            "  \u001b[94m\"title\"\u001b[39;49;00m: \u001b[33m\"The Bank of the Free - Kuda\"\u001b[39;49;00m,\n",
            "  \u001b[94m\"updated\"\u001b[39;49;00m: \u001b[34m1654704996\u001b[39;49;00m,\n",
            "  \u001b[94m\"url\"\u001b[39;49;00m: \u001b[33m\"https://play.google.com/store/apps/details?id=com.kudabank.app&hl=en&gl=ng\"\u001b[39;49;00m,\n",
            "  \u001b[94m\"version\"\u001b[39;49;00m: \u001b[33m\"0.9.583\"\u001b[39;49;00m,\n",
            "  \u001b[94m\"video\"\u001b[39;49;00m: \u001b[33m\"https://www.youtube.com/embed/DM4_2A41IZI?ps=play&vq=large&rel=0&autohide=1&showinfo=0\"\u001b[39;49;00m,\n",
            "  \u001b[94m\"videoImage\"\u001b[39;49;00m: \u001b[33m\"https://play-lh.googleusercontent.com/B8rSdsJ_ZaEo5iYYYY_Fru7wcj0MKxmRc93RYDhkroSLZeSPOL0gotxcgI80dWKLPMg\"\u001b[39;49;00m\n",
            "}\n",
            "\n"
          ]
        }
      ],
      "source": [
        "# print the info of the last app : Kuda Bank\n",
        "print_json(app_infos[-1])"
      ]
    },
    {
      "cell_type": "markdown",
      "metadata": {
        "id": "l7cE8rXioctE"
      },
      "source": [
        "PLOT THE ICONS OF THE APP"
      ]
    },
    {
      "cell_type": "code",
      "execution_count": 80,
      "metadata": {
        "colab": {
          "base_uri": "https://localhost:8080/",
          "height": 337
        },
        "id": "5ouZzrh_rSuj",
        "outputId": "2e00937d-d71f-4dd7-cc8a-846955707714"
      },
      "outputs": [
        {
          "data": {
            "image/png": "[encoded data removed]",
            "text/plain": [
              "<Figure size 720x360 with 8 Axes>"
            ]
          },
          "metadata": {},
          "output_type": "display_data"
        }
      ],
      "source": [
        "# plot the icons of the app\n",
        "# filter the title of the apps\n",
        "def filter_title(title):\n",
        "  if title.find(':') != -1:\n",
        "    sep_index = title.find(':')\n",
        "  else:\n",
        "    sep_index = title.find('-')\n",
        "  if sep_index != -1:\n",
        "    title = title[:sep_index]\n",
        "  title = title[:20]\n",
        "  return title\n",
        "\n",
        "\n",
        "fig, axes = plt.subplots(2, len(app_package_id)//2, figsize = (10,5))\n",
        "for id, ax in enumerate(axes.flat):\n",
        "  ap = app_infos[id]\n",
        "  try:\n",
        "    ax.imshow(plt.imread(ap['icon']))\n",
        "    ax.set_title(filter_title(ap['title']))\n",
        "    ax.axis('off')\n",
        "  except ValueError as error:\n",
        "    ax.set_title(filter_title(ap['title']))\n",
        "    pass\n",
        "\n"
      ]
    },
    {
      "cell_type": "markdown",
      "metadata": {
        "id": "3gqvPBW1VIYT"
      },
      "source": [
        "CREATE A DATAFRAME WITH THE INFO OF THE APPS"
      ]
    },
    {
      "cell_type": "code",
      "execution_count": 81,
      "metadata": {
        "colab": {
          "base_uri": "https://localhost:8080/",
          "height": 734
        },
        "id": "p08nGexwtvUm",
        "outputId": "1dbc0e7a-2f06-41b0-9355-0b7487f7f648"
      },
      "outputs": [
        {
          "data": {
            "text/html": [
              "\n",
              "  <div id=\"df-ee4ce569-7ca5-4e74-b590-f7b0fff14278\">\n",
              "    <div class=\"colab-df-container\">\n",
              "      <div>\n",
              "<style scoped>\n",
              "    .dataframe tbody tr th:only-of-type {\n",
              "        vertical-align: middle;\n",
              "    }\n",
              "\n",
              "    .dataframe tbody tr th {\n",
              "        vertical-align: top;\n",
              "    }\n",
              "\n",
              "    .dataframe thead th {\n",
              "        text-align: right;\n",
              "    }\n",
              "</style>\n",
              "<table border=\"1\" class=\"dataframe\">\n",
              "  <thead>\n",
              "    <tr style=\"text-align: right;\">\n",
              "      <th></th>\n",
              "      <th>title</th>\n",
              "      <th>description</th>\n",
              "      <th>descriptionHTML</th>\n",
              "      <th>summary</th>\n",
              "      <th>installs</th>\n",
              "      <th>minInstalls</th>\n",
              "      <th>realInstalls</th>\n",
              "      <th>score</th>\n",
              "      <th>ratings</th>\n",
              "      <th>reviews</th>\n",
              "      <th>...</th>\n",
              "      <th>contentRatingDescription</th>\n",
              "      <th>adSupported</th>\n",
              "      <th>containsAds</th>\n",
              "      <th>released</th>\n",
              "      <th>updated</th>\n",
              "      <th>version</th>\n",
              "      <th>recentChanges</th>\n",
              "      <th>recentChangesHTML</th>\n",
              "      <th>appId</th>\n",
              "      <th>url</th>\n",
              "    </tr>\n",
              "  </thead>\n",
              "  <tbody>\n",
              "    <tr>\n",
              "      <th>0</th>\n",
              "      <td>Barter by Flutterwave</td>\n",
              "      <td>Manage your finances with barter. Barter is de...</td>\n",
              "      <td>Manage your finances with barter. Barter is de...</td>\n",
              "      <td>Manage your finances with Barter</td>\n",
              "      <td>500,000+</td>\n",
              "      <td>500000</td>\n",
              "      <td>940491</td>\n",
              "      <td>3.691076</td>\n",
              "      <td>11177</td>\n",
              "      <td>4357</td>\n",
              "      <td>...</td>\n",
              "      <td>None</td>\n",
              "      <td>False</td>\n",
              "      <td>False</td>\n",
              "      <td>Nov 7, 2018</td>\n",
              "      <td>1658149478</td>\n",
              "      <td>2.4.47</td>\n",
              "      <td>Bug fixes</td>\n",
              "      <td>Bug fixes</td>\n",
              "      <td>com.flutterwave.flybarter</td>\n",
              "      <td>https://play.google.com/store/apps/details?id=...</td>\n",
              "    </tr>\n",
              "    <tr>\n",
              "      <th>1</th>\n",
              "      <td>OPay</td>\n",
              "      <td>OPay - The first cashback wallet in Nigeria(A ...</td>\n",
              "      <td>OPay - The first cashback wallet in Nigeria(A ...</td>\n",
              "      <td>OPay is a tool for transfer money and payments</td>\n",
              "      <td>10,000,000+</td>\n",
              "      <td>10000000</td>\n",
              "      <td>10003226</td>\n",
              "      <td>4.497704</td>\n",
              "      <td>209195</td>\n",
              "      <td>108650</td>\n",
              "      <td>...</td>\n",
              "      <td>None</td>\n",
              "      <td>False</td>\n",
              "      <td>False</td>\n",
              "      <td>Jun 8, 2018</td>\n",
              "      <td>1658309999</td>\n",
              "      <td>4.39.3.51</td>\n",
              "      <td>None</td>\n",
              "      <td>None</td>\n",
              "      <td>team.opay.pay</td>\n",
              "      <td>https://play.google.com/store/apps/details?id=...</td>\n",
              "    </tr>\n",
              "    <tr>\n",
              "      <th>2</th>\n",
              "      <td>PalmPay - Transfers, Bills</td>\n",
              "      <td>PalmPay is the rewarding way to make payments!...</td>\n",
              "      <td>PalmPay is the rewarding way to make payments!...</td>\n",
              "      <td>Free bank transfers, get discount on airtime a...</td>\n",
              "      <td>5,000,000+</td>\n",
              "      <td>5000000</td>\n",
              "      <td>6770227</td>\n",
              "      <td>4.514586</td>\n",
              "      <td>190639</td>\n",
              "      <td>76020</td>\n",
              "      <td>...</td>\n",
              "      <td>None</td>\n",
              "      <td>False</td>\n",
              "      <td>False</td>\n",
              "      <td>Sep 15, 2018</td>\n",
              "      <td>1658150750</td>\n",
              "      <td>3.9.2</td>\n",
              "      <td>Update your app to experience these exciting n...</td>\n",
              "      <td>Update your app to experience these exciting n...</td>\n",
              "      <td>com.transsnet.palmpay</td>\n",
              "      <td>https://play.google.com/store/apps/details?id=...</td>\n",
              "    </tr>\n",
              "    <tr>\n",
              "      <th>3</th>\n",
              "      <td>Chipper Cash</td>\n",
              "      <td>&lt;center&gt;Send and receive money the fast and ea...</td>\n",
              "      <td>&lt;center&gt;Send and receive money the fast and ea...</td>\n",
              "      <td>Send &amp; Receive money to, from, and across Afri...</td>\n",
              "      <td>5,000,000+</td>\n",
              "      <td>5000000</td>\n",
              "      <td>5083183</td>\n",
              "      <td>4.167352</td>\n",
              "      <td>71930</td>\n",
              "      <td>21774</td>\n",
              "      <td>...</td>\n",
              "      <td>None</td>\n",
              "      <td>False</td>\n",
              "      <td>False</td>\n",
              "      <td>Jul 7, 2018</td>\n",
              "      <td>1658394436</td>\n",
              "      <td>1.10.10</td>\n",
              "      <td>Because routine maintenance is just as importa...</td>\n",
              "      <td>Because routine maintenance is just as importa...</td>\n",
              "      <td>com.chippercash</td>\n",
              "      <td>https://play.google.com/store/apps/details?id=...</td>\n",
              "    </tr>\n",
              "    <tr>\n",
              "      <th>4</th>\n",
              "      <td>Quickteller</td>\n",
              "      <td>The new improved Quickteller App is designed t...</td>\n",
              "      <td>The new improved Quickteller App is designed t...</td>\n",
              "      <td>Quickteller is designed to make your everyday ...</td>\n",
              "      <td>1,000,000+</td>\n",
              "      <td>1000000</td>\n",
              "      <td>1011501</td>\n",
              "      <td>3.739130</td>\n",
              "      <td>3679</td>\n",
              "      <td>1882</td>\n",
              "      <td>...</td>\n",
              "      <td>None</td>\n",
              "      <td>True</td>\n",
              "      <td>True</td>\n",
              "      <td>Mar 4, 2019</td>\n",
              "      <td>1657225016</td>\n",
              "      <td>1.0.36</td>\n",
              "      <td>Bug fixes and improvement</td>\n",
              "      <td>Bug fixes and improvement</td>\n",
              "      <td>com.quickteller.app</td>\n",
              "      <td>https://play.google.com/store/apps/details?id=...</td>\n",
              "    </tr>\n",
              "  </tbody>\n",
              "</table>\n",
              "<p>5 rows × 44 columns</p>\n",
              "</div>\n",
              "      <button class=\"colab-df-convert\" onclick=\"convertToInteractive('df-ee4ce569-7ca5-4e74-b590-f7b0fff14278')\"\n",
              "              title=\"Convert this dataframe to an interactive table.\"\n",
              "              style=\"display:none;\">\n",
              "        \n",
              "  <svg xmlns=\"http://www.w3.org/2000/svg\" height=\"24px\"viewBox=\"0 0 24 24\"\n",
              "       width=\"24px\">\n",
              "    <path d=\"M0 0h24v24H0V0z\" fill=\"none\"/>\n",
              "    <path d=\"M18.56 5.44l.94 2.06.94-2.06 2.06-.94-2.06-.94-.94-2.06-.94 2.06-2.06.94zm-11 1L8.5 8.5l.94-2.06 2.06-.94-2.06-.94L8.5 2.5l-.94 2.06-2.06.94zm10 10l.94 2.06.94-2.06 2.06-.94-2.06-.94-.94-2.06-.94 2.06-2.06.94z\"/><path d=\"M17.41 7.96l-1.37-1.37c-.4-.4-.92-.59-1.43-.59-.52 0-1.04.2-1.43.59L10.3 9.45l-7.72 7.72c-.78.78-.78 2.05 0 2.83L4 21.41c.39.39.9.59 1.41.59.51 0 1.02-.2 1.41-.59l7.78-7.78 2.81-2.81c.8-.78.8-2.07 0-2.86zM5.41 20L4 18.59l7.72-7.72 1.47 1.35L5.41 20z\"/>\n",
              "  </svg>\n",
              "      </button>\n",
              "      \n",
              "  <style>\n",
              "    .colab-df-container {\n",
              "      display:flex;\n",
              "      flex-wrap:wrap;\n",
              "      gap: 12px;\n",
              "    }\n",
              "\n",
              "    .colab-df-convert {\n",
              "      background-color: #E8F0FE;\n",
              "      border: none;\n",
              "      border-radius: 50%;\n",
              "      cursor: pointer;\n",
              "      display: none;\n",
              "      fill: #1967D2;\n",
              "      height: 32px;\n",
              "      padding: 0 0 0 0;\n",
              "      width: 32px;\n",
              "    }\n",
              "\n",
              "    .colab-df-convert:hover {\n",
              "      background-color: #E2EBFA;\n",
              "      box-shadow: 0px 1px 2px rgba(60, 64, 67, 0.3), 0px 1px 3px 1px rgba(60, 64, 67, 0.15);\n",
              "      fill: #174EA6;\n",
              "    }\n",
              "\n",
              "    [theme=dark] .colab-df-convert {\n",
              "      background-color: #3B4455;\n",
              "      fill: #D2E3FC;\n",
              "    }\n",
              "\n",
              "    [theme=dark] .colab-df-convert:hover {\n",
              "      background-color: #434B5C;\n",
              "      box-shadow: 0px 1px 3px 1px rgba(0, 0, 0, 0.15);\n",
              "      filter: drop-shadow(0px 1px 2px rgba(0, 0, 0, 0.3));\n",
              "      fill: #FFFFFF;\n",
              "    }\n",
              "  </style>\n",
              "\n",
              "      <script>\n",
              "        const buttonEl =\n",
              "          document.querySelector('#df-ee4ce569-7ca5-4e74-b590-f7b0fff14278 button.colab-df-convert');\n",
              "        buttonEl.style.display =\n",
              "          google.colab.kernel.accessAllowed ? 'block' : 'none';\n",
              "\n",
              "        async function convertToInteractive(key) {\n",
              "          const element = document.querySelector('#df-ee4ce569-7ca5-4e74-b590-f7b0fff14278');\n",
              "          const dataTable =\n",
              "            await google.colab.kernel.invokeFunction('convertToInteractive',\n",
              "                                                     [key], {});\n",
              "          if (!dataTable) return;\n",
              "\n",
              "          const docLinkHtml = 'Like what you see? Visit the ' +\n",
              "            '<a target=\"_blank\" href=https://colab.research.google.com/notebooks/data_table.ipynb>data table notebook</a>'\n",
              "            + ' to learn more about interactive tables.';\n",
              "          element.innerHTML = '';\n",
              "          dataTable['output_type'] = 'display_data';\n",
              "          await google.colab.output.renderOutput(dataTable, element);\n",
              "          const docLink = document.createElement('div');\n",
              "          docLink.innerHTML = docLinkHtml;\n",
              "          element.appendChild(docLink);\n",
              "        }\n",
              "      </script>\n",
              "    </div>\n",
              "  </div>\n",
              "  "
            ],
            "text/plain": [
              "                        title  \\\n",
              "0       Barter by Flutterwave   \n",
              "1                        OPay   \n",
              "2  PalmPay - Transfers, Bills   \n",
              "3                Chipper Cash   \n",
              "4                 Quickteller   \n",
              "\n",
              "                                         description  \\\n",
              "0  Manage your finances with barter. Barter is de...   \n",
              "1  OPay - The first cashback wallet in Nigeria(A ...   \n",
              "2  PalmPay is the rewarding way to make payments!...   \n",
              "3  <center>Send and receive money the fast and ea...   \n",
              "4  The new improved Quickteller App is designed t...   \n",
              "\n",
              "                                     descriptionHTML  \\\n",
              "0  Manage your finances with barter. Barter is de...   \n",
              "1  OPay - The first cashback wallet in Nigeria(A ...   \n",
              "2  PalmPay is the rewarding way to make payments!...   \n",
              "3  <center>Send and receive money the fast and ea...   \n",
              "4  The new improved Quickteller App is designed t...   \n",
              "\n",
              "                                             summary     installs  \\\n",
              "0                   Manage your finances with Barter     500,000+   \n",
              "1     OPay is a tool for transfer money and payments  10,000,000+   \n",
              "2  Free bank transfers, get discount on airtime a...   5,000,000+   \n",
              "3  Send & Receive money to, from, and across Afri...   5,000,000+   \n",
              "4  Quickteller is designed to make your everyday ...   1,000,000+   \n",
              "\n",
              "   minInstalls  realInstalls     score  ratings  reviews  ...  \\\n",
              "0       500000        940491  3.691076    11177     4357  ...   \n",
              "1     10000000      10003226  4.497704   209195   108650  ...   \n",
              "2      5000000       6770227  4.514586   190639    76020  ...   \n",
              "3      5000000       5083183  4.167352    71930    21774  ...   \n",
              "4      1000000       1011501  3.739130     3679     1882  ...   \n",
              "\n",
              "  contentRatingDescription  adSupported  containsAds      released  \\\n",
              "0                     None        False        False   Nov 7, 2018   \n",
              "1                     None        False        False   Jun 8, 2018   \n",
              "2                     None        False        False  Sep 15, 2018   \n",
              "3                     None        False        False   Jul 7, 2018   \n",
              "4                     None         True         True   Mar 4, 2019   \n",
              "\n",
              "      updated    version                                      recentChanges  \\\n",
              "0  1658149478     2.4.47                                          Bug fixes   \n",
              "1  1658309999  4.39.3.51                                               None   \n",
              "2  1658150750      3.9.2  Update your app to experience these exciting n...   \n",
              "3  1658394436    1.10.10  Because routine maintenance is just as importa...   \n",
              "4  1657225016     1.0.36                          Bug fixes and improvement   \n",
              "\n",
              "                                   recentChangesHTML  \\\n",
              "0                                          Bug fixes   \n",
              "1                                               None   \n",
              "2  Update your app to experience these exciting n...   \n",
              "3  Because routine maintenance is just as importa...   \n",
              "4                          Bug fixes and improvement   \n",
              "\n",
              "                       appId  \\\n",
              "0  com.flutterwave.flybarter   \n",
              "1              team.opay.pay   \n",
              "2      com.transsnet.palmpay   \n",
              "3            com.chippercash   \n",
              "4        com.quickteller.app   \n",
              "\n",
              "                                                 url  \n",
              "0  https://play.google.com/store/apps/details?id=...  \n",
              "1  https://play.google.com/store/apps/details?id=...  \n",
              "2  https://play.google.com/store/apps/details?id=...  \n",
              "3  https://play.google.com/store/apps/details?id=...  \n",
              "4  https://play.google.com/store/apps/details?id=...  \n",
              "\n",
              "[5 rows x 44 columns]"
            ]
          },
          "execution_count": 81,
          "metadata": {},
          "output_type": "execute_result"
        }
      ],
      "source": [
        "app_infos_df = pd.DataFrame(app_infos)\n",
        "app_infos_df.head()"
      ]
    },
    {
      "cell_type": "code",
      "execution_count": 82,
      "metadata": {
        "id": "xZYCX5viVhwb"
      },
      "outputs": [],
      "source": [
        "# save dataframe to csv\n",
        "app_infos_df.to_csv('apps_info.csv', index = False, header = False)"
      ]
    },
    {
      "cell_type": "markdown",
      "metadata": {
        "id": "2rYl7ILpWr67"
      },
      "source": [
        "GET THE APP REVIEWS"
      ]
    },
    {
      "cell_type": "code",
      "execution_count": null,
      "metadata": {
        "id": "osolArEjWeq2"
      },
      "outputs": [],
      "source": [
        "# since most of the reviews in the internet are imbalanced, I am going to scrape reviews with\n",
        "# corresponding to ratings such as 1-2-3-4-5 in a balanced format\n",
        "# I will take the twice value for neutral - 3 than the other values\n",
        "# I will also be also be taking the Most Relevant and NEWEST"
      ]
    },
    {
      "cell_type": "code",
      "execution_count": 83,
      "metadata": {
        "colab": {
          "base_uri": "https://localhost:8080/"
        },
        "id": "4Bdt9BppV18s",
        "outputId": "91c3c82a-becb-48b5-9ac8-3fc60f3cecfe"
      },
      "outputs": [
        {
          "name": "stderr",
          "output_type": "stream",
          "text": [
            "100%|██████████| 8/8 [00:35<00:00,  4.39s/it]\n"
          ]
        }
      ],
      "source": [
        "app_reviews = []\n",
        "for ap in tqdm(app_package_id):\n",
        "  for score in range(1, 6):\n",
        "    for sort_order in [Sort.MOST_RELEVANT, Sort.NEWEST]:\n",
        "      rvs, _ = reviews(\n",
        "                ap,\n",
        "                lang='en',\n",
        "                country='us',\n",
        "                sort = sort_order,\n",
        "                count=500 if score == 3 else 250,\n",
        "                filter_score_with = score   \n",
        "            )\n",
        "      for r in rvs:\n",
        "        r['sortOrder'] = 'most_relevant' if sort_order == Sort.MOST_RELEVANT else 'newest'\n",
        "        r['appId'] = ap\n",
        "      app_reviews.extend(rvs)\n"
      ]
    },
    {
      "cell_type": "code",
      "execution_count": 84,
      "metadata": {
        "colab": {
          "base_uri": "https://localhost:8080/"
        },
        "id": "3E5g2QJPf_QX",
        "outputId": "dbff8bc4-54b6-4427-b0bf-b57ff3870558"
      },
      "outputs": [
        {
          "data": {
            "text/plain": [
              "21932"
            ]
          },
          "execution_count": 84,
          "metadata": {},
          "output_type": "execute_result"
        }
      ],
      "source": [
        "len(app_reviews)"
      ]
    },
    {
      "cell_type": "code",
      "execution_count": 85,
      "metadata": {
        "colab": {
          "base_uri": "https://localhost:8080/"
        },
        "id": "8gxfKnoJgP6p",
        "outputId": "81917b01-c289-48e1-a1d3-569a3b2b4d12"
      },
      "outputs": [
        {
          "name": "stdout",
          "output_type": "stream",
          "text": [
            "{\n",
            "  \u001b[94m\"appId\"\u001b[39;49;00m: \u001b[33m\"com.flutterwave.flybarter\"\u001b[39;49;00m,\n",
            "  \u001b[94m\"at\"\u001b[39;49;00m: \u001b[33m\"2022-07-21 09:28:55\"\u001b[39;49;00m,\n",
            "  \u001b[94m\"content\"\u001b[39;49;00m: \u001b[33m\"Useless and frustrated app in terms of customers care. My phone was stolen and I try changing my number which the features keep saying \\\"service is on available at the moment try again later\\\" for the past 3 months. I sent an email 3 months ago with no response and I sent another reminder a week ago, still no response. What's the features of customers service doing when you knew customers service are not going to solve your problems? I so hate this app for this weird act\"\u001b[39;49;00m,\n",
            "  \u001b[94m\"repliedAt\"\u001b[39;49;00m: \u001b[34mnull\u001b[39;49;00m,\n",
            "  \u001b[94m\"replyContent\"\u001b[39;49;00m: \u001b[34mnull\u001b[39;49;00m,\n",
            "  \u001b[94m\"reviewCreatedVersion\"\u001b[39;49;00m: \u001b[33m\"2.4.47\"\u001b[39;49;00m,\n",
            "  \u001b[94m\"reviewId\"\u001b[39;49;00m: \u001b[33m\"a77c9d14-63ef-47fb-b2ac-99cc82275943\"\u001b[39;49;00m,\n",
            "  \u001b[94m\"score\"\u001b[39;49;00m: \u001b[34m1\u001b[39;49;00m,\n",
            "  \u001b[94m\"sortOrder\"\u001b[39;49;00m: \u001b[33m\"most_relevant\"\u001b[39;49;00m,\n",
            "  \u001b[94m\"thumbsUpCount\"\u001b[39;49;00m: \u001b[34m0\u001b[39;49;00m,\n",
            "  \u001b[94m\"userImage\"\u001b[39;49;00m: \u001b[33m\"https://play-lh.googleusercontent.com/a-/AFdZuco3L-xlQln_MzTn9kGJx95KjzU77U48H8itwfs38A\"\u001b[39;49;00m,\n",
            "  \u001b[94m\"userName\"\u001b[39;49;00m: \u001b[33m\"Meditation Relaxing Music Inspiration\"\u001b[39;49;00m\n",
            "}\n",
            "\n"
          ]
        }
      ],
      "source": [
        "print_json(app_reviews[0])"
      ]
    },
    {
      "cell_type": "markdown",
      "metadata": {
        "id": "NT2lPWOogptS"
      },
      "source": [
        "CONVERT APP_REVIEWS INTO DATAFRAME"
      ]
    },
    {
      "cell_type": "code",
      "execution_count": 86,
      "metadata": {
        "colab": {
          "base_uri": "https://localhost:8080/",
          "height": 739
        },
        "id": "1S2utb0cgpBA",
        "outputId": "1a74c5e6-6111-4669-f287-f8381ae36e6d"
      },
      "outputs": [
        {
          "data": {
            "text/html": [
              "\n",
              "  <div id=\"df-5605e24c-a96a-46e1-9405-939fd0849f61\">\n",
              "    <div class=\"colab-df-container\">\n",
              "      <div>\n",
              "<style scoped>\n",
              "    .dataframe tbody tr th:only-of-type {\n",
              "        vertical-align: middle;\n",
              "    }\n",
              "\n",
              "    .dataframe tbody tr th {\n",
              "        vertical-align: top;\n",
              "    }\n",
              "\n",
              "    .dataframe thead th {\n",
              "        text-align: right;\n",
              "    }\n",
              "</style>\n",
              "<table border=\"1\" class=\"dataframe\">\n",
              "  <thead>\n",
              "    <tr style=\"text-align: right;\">\n",
              "      <th></th>\n",
              "      <th>reviewId</th>\n",
              "      <th>userName</th>\n",
              "      <th>userImage</th>\n",
              "      <th>content</th>\n",
              "      <th>score</th>\n",
              "      <th>thumbsUpCount</th>\n",
              "      <th>reviewCreatedVersion</th>\n",
              "      <th>at</th>\n",
              "      <th>replyContent</th>\n",
              "      <th>repliedAt</th>\n",
              "      <th>sortOrder</th>\n",
              "      <th>appId</th>\n",
              "    </tr>\n",
              "  </thead>\n",
              "  <tbody>\n",
              "    <tr>\n",
              "      <th>0</th>\n",
              "      <td>a77c9d14-63ef-47fb-b2ac-99cc82275943</td>\n",
              "      <td>Meditation Relaxing Music Inspiration</td>\n",
              "      <td>https://play-lh.googleusercontent.com/a-/AFdZu...</td>\n",
              "      <td>Useless and frustrated app in terms of custome...</td>\n",
              "      <td>1</td>\n",
              "      <td>0</td>\n",
              "      <td>2.4.47</td>\n",
              "      <td>2022-07-21 09:28:55</td>\n",
              "      <td>None</td>\n",
              "      <td>NaT</td>\n",
              "      <td>most_relevant</td>\n",
              "      <td>com.flutterwave.flybarter</td>\n",
              "    </tr>\n",
              "    <tr>\n",
              "      <th>1</th>\n",
              "      <td>a9fe019a-dbb5-4b85-9d9b-797479fbb7d2</td>\n",
              "      <td>mask angel</td>\n",
              "      <td>https://play-lh.googleusercontent.com/a-/AFdZu...</td>\n",
              "      <td>Scammers, the lot of them. Don't download this...</td>\n",
              "      <td>1</td>\n",
              "      <td>17</td>\n",
              "      <td>2.4.45</td>\n",
              "      <td>2022-06-29 08:59:48</td>\n",
              "      <td>Hello, we are so sorry for the inconvenience. ...</td>\n",
              "      <td>2022-07-01 16:31:33</td>\n",
              "      <td>most_relevant</td>\n",
              "      <td>com.flutterwave.flybarter</td>\n",
              "    </tr>\n",
              "    <tr>\n",
              "      <th>2</th>\n",
              "      <td>4c55f499-eb1b-4aec-ab8e-858902b60992</td>\n",
              "      <td>Fred Ronald</td>\n",
              "      <td>https://play-lh.googleusercontent.com/a/AItbvm...</td>\n",
              "      <td>My experience hasn't been good,the app keeps l...</td>\n",
              "      <td>1</td>\n",
              "      <td>3</td>\n",
              "      <td>2.4.45</td>\n",
              "      <td>2022-07-20 18:57:04</td>\n",
              "      <td>Hi Victor, this must have been a frustrating e...</td>\n",
              "      <td>2022-07-21 04:22:29</td>\n",
              "      <td>most_relevant</td>\n",
              "      <td>com.flutterwave.flybarter</td>\n",
              "    </tr>\n",
              "    <tr>\n",
              "      <th>3</th>\n",
              "      <td>db8cc164-107b-4024-81df-738ec37fd20d</td>\n",
              "      <td>Sweet Love</td>\n",
              "      <td>https://play-lh.googleusercontent.com/a/AItbvm...</td>\n",
              "      <td>Very annoying app ever. I signed up account an...</td>\n",
              "      <td>1</td>\n",
              "      <td>8</td>\n",
              "      <td>2.4.44</td>\n",
              "      <td>2022-06-04 22:29:25</td>\n",
              "      <td>Hello, We apologise for the inconvenience caus...</td>\n",
              "      <td>2022-06-09 06:00:42</td>\n",
              "      <td>most_relevant</td>\n",
              "      <td>com.flutterwave.flybarter</td>\n",
              "    </tr>\n",
              "    <tr>\n",
              "      <th>4</th>\n",
              "      <td>52b105b4-77e0-4018-87dc-e66c9625790d</td>\n",
              "      <td>Prince Simeon.A</td>\n",
              "      <td>https://play-lh.googleusercontent.com/a-/AFdZu...</td>\n",
              "      <td>I thought the experience would be an awesome o...</td>\n",
              "      <td>1</td>\n",
              "      <td>1</td>\n",
              "      <td>2.4.44</td>\n",
              "      <td>2022-06-03 20:53:11</td>\n",
              "      <td>Hi Prince, we are so sorry about your experien...</td>\n",
              "      <td>2022-06-09 04:30:57</td>\n",
              "      <td>most_relevant</td>\n",
              "      <td>com.flutterwave.flybarter</td>\n",
              "    </tr>\n",
              "  </tbody>\n",
              "</table>\n",
              "</div>\n",
              "      <button class=\"colab-df-convert\" onclick=\"convertToInteractive('df-5605e24c-a96a-46e1-9405-939fd0849f61')\"\n",
              "              title=\"Convert this dataframe to an interactive table.\"\n",
              "              style=\"display:none;\">\n",
              "        \n",
              "  <svg xmlns=\"http://www.w3.org/2000/svg\" height=\"24px\"viewBox=\"0 0 24 24\"\n",
              "       width=\"24px\">\n",
              "    <path d=\"M0 0h24v24H0V0z\" fill=\"none\"/>\n",
              "    <path d=\"M18.56 5.44l.94 2.06.94-2.06 2.06-.94-2.06-.94-.94-2.06-.94 2.06-2.06.94zm-11 1L8.5 8.5l.94-2.06 2.06-.94-2.06-.94L8.5 2.5l-.94 2.06-2.06.94zm10 10l.94 2.06.94-2.06 2.06-.94-2.06-.94-.94-2.06-.94 2.06-2.06.94z\"/><path d=\"M17.41 7.96l-1.37-1.37c-.4-.4-.92-.59-1.43-.59-.52 0-1.04.2-1.43.59L10.3 9.45l-7.72 7.72c-.78.78-.78 2.05 0 2.83L4 21.41c.39.39.9.59 1.41.59.51 0 1.02-.2 1.41-.59l7.78-7.78 2.81-2.81c.8-.78.8-2.07 0-2.86zM5.41 20L4 18.59l7.72-7.72 1.47 1.35L5.41 20z\"/>\n",
              "  </svg>\n",
              "      </button>\n",
              "      \n",
              "  <style>\n",
              "    .colab-df-container {\n",
              "      display:flex;\n",
              "      flex-wrap:wrap;\n",
              "      gap: 12px;\n",
              "    }\n",
              "\n",
              "    .colab-df-convert {\n",
              "      background-color: #E8F0FE;\n",
              "      border: none;\n",
              "      border-radius: 50%;\n",
              "      cursor: pointer;\n",
              "      display: none;\n",
              "      fill: #1967D2;\n",
              "      height: 32px;\n",
              "      padding: 0 0 0 0;\n",
              "      width: 32px;\n",
              "    }\n",
              "\n",
              "    .colab-df-convert:hover {\n",
              "      background-color: #E2EBFA;\n",
              "      box-shadow: 0px 1px 2px rgba(60, 64, 67, 0.3), 0px 1px 3px 1px rgba(60, 64, 67, 0.15);\n",
              "      fill: #174EA6;\n",
              "    }\n",
              "\n",
              "    [theme=dark] .colab-df-convert {\n",
              "      background-color: #3B4455;\n",
              "      fill: #D2E3FC;\n",
              "    }\n",
              "\n",
              "    [theme=dark] .colab-df-convert:hover {\n",
              "      background-color: #434B5C;\n",
              "      box-shadow: 0px 1px 3px 1px rgba(0, 0, 0, 0.15);\n",
              "      filter: drop-shadow(0px 1px 2px rgba(0, 0, 0, 0.3));\n",
              "      fill: #FFFFFF;\n",
              "    }\n",
              "  </style>\n",
              "\n",
              "      <script>\n",
              "        const buttonEl =\n",
              "          document.querySelector('#df-5605e24c-a96a-46e1-9405-939fd0849f61 button.colab-df-convert');\n",
              "        buttonEl.style.display =\n",
              "          google.colab.kernel.accessAllowed ? 'block' : 'none';\n",
              "\n",
              "        async function convertToInteractive(key) {\n",
              "          const element = document.querySelector('#df-5605e24c-a96a-46e1-9405-939fd0849f61');\n",
              "          const dataTable =\n",
              "            await google.colab.kernel.invokeFunction('convertToInteractive',\n",
              "                                                     [key], {});\n",
              "          if (!dataTable) return;\n",
              "\n",
              "          const docLinkHtml = 'Like what you see? Visit the ' +\n",
              "            '<a target=\"_blank\" href=https://colab.research.google.com/notebooks/data_table.ipynb>data table notebook</a>'\n",
              "            + ' to learn more about interactive tables.';\n",
              "          element.innerHTML = '';\n",
              "          dataTable['output_type'] = 'display_data';\n",
              "          await google.colab.output.renderOutput(dataTable, element);\n",
              "          const docLink = document.createElement('div');\n",
              "          docLink.innerHTML = docLinkHtml;\n",
              "          element.appendChild(docLink);\n",
              "        }\n",
              "      </script>\n",
              "    </div>\n",
              "  </div>\n",
              "  "
            ],
            "text/plain": [
              "                               reviewId  \\\n",
              "0  a77c9d14-63ef-47fb-b2ac-99cc82275943   \n",
              "1  a9fe019a-dbb5-4b85-9d9b-797479fbb7d2   \n",
              "2  4c55f499-eb1b-4aec-ab8e-858902b60992   \n",
              "3  db8cc164-107b-4024-81df-738ec37fd20d   \n",
              "4  52b105b4-77e0-4018-87dc-e66c9625790d   \n",
              "\n",
              "                                userName  \\\n",
              "0  Meditation Relaxing Music Inspiration   \n",
              "1                             mask angel   \n",
              "2                            Fred Ronald   \n",
              "3                             Sweet Love   \n",
              "4                        Prince Simeon.A   \n",
              "\n",
              "                                           userImage  \\\n",
              "0  https://play-lh.googleusercontent.com/a-/AFdZu...   \n",
              "1  https://play-lh.googleusercontent.com/a-/AFdZu...   \n",
              "2  https://play-lh.googleusercontent.com/a/AItbvm...   \n",
              "3  https://play-lh.googleusercontent.com/a/AItbvm...   \n",
              "4  https://play-lh.googleusercontent.com/a-/AFdZu...   \n",
              "\n",
              "                                             content  score  thumbsUpCount  \\\n",
              "0  Useless and frustrated app in terms of custome...      1              0   \n",
              "1  Scammers, the lot of them. Don't download this...      1             17   \n",
              "2  My experience hasn't been good,the app keeps l...      1              3   \n",
              "3  Very annoying app ever. I signed up account an...      1              8   \n",
              "4  I thought the experience would be an awesome o...      1              1   \n",
              "\n",
              "  reviewCreatedVersion                  at  \\\n",
              "0               2.4.47 2022-07-21 09:28:55   \n",
              "1               2.4.45 2022-06-29 08:59:48   \n",
              "2               2.4.45 2022-07-20 18:57:04   \n",
              "3               2.4.44 2022-06-04 22:29:25   \n",
              "4               2.4.44 2022-06-03 20:53:11   \n",
              "\n",
              "                                        replyContent           repliedAt  \\\n",
              "0                                               None                 NaT   \n",
              "1  Hello, we are so sorry for the inconvenience. ... 2022-07-01 16:31:33   \n",
              "2  Hi Victor, this must have been a frustrating e... 2022-07-21 04:22:29   \n",
              "3  Hello, We apologise for the inconvenience caus... 2022-06-09 06:00:42   \n",
              "4  Hi Prince, we are so sorry about your experien... 2022-06-09 04:30:57   \n",
              "\n",
              "       sortOrder                      appId  \n",
              "0  most_relevant  com.flutterwave.flybarter  \n",
              "1  most_relevant  com.flutterwave.flybarter  \n",
              "2  most_relevant  com.flutterwave.flybarter  \n",
              "3  most_relevant  com.flutterwave.flybarter  \n",
              "4  most_relevant  com.flutterwave.flybarter  "
            ]
          },
          "execution_count": 86,
          "metadata": {},
          "output_type": "execute_result"
        }
      ],
      "source": [
        "app_reviews_df = pd.DataFrame(app_reviews)\n",
        "app_reviews_df.head()"
      ]
    },
    {
      "cell_type": "code",
      "execution_count": 87,
      "metadata": {
        "colab": {
          "base_uri": "https://localhost:8080/"
        },
        "id": "Pp9b2MXCgWV6",
        "outputId": "0555298f-3468-43b0-d93d-43a2ad107a41"
      },
      "outputs": [
        {
          "data": {
            "text/plain": [
              "team.opay.pay                3000\n",
              "com.transsnet.palmpay        3000\n",
              "com.chippercash              3000\n",
              "com.piggybankng.piggy        3000\n",
              "com.kudabank.app             3000\n",
              "com.flutterwave.flybarter    2790\n",
              "com.mypaga.customer          2186\n",
              "com.quickteller.app          1956\n",
              "Name: appId, dtype: int64"
            ]
          },
          "execution_count": 87,
          "metadata": {},
          "output_type": "execute_result"
        }
      ],
      "source": [
        "app_count = app_reviews_df.appId.value_counts()\n",
        "app_count"
      ]
    },
    {
      "cell_type": "code",
      "execution_count": 88,
      "metadata": {
        "colab": {
          "base_uri": "https://localhost:8080/"
        },
        "id": "vv688KctlT4l",
        "outputId": "c334aefd-d550-45c6-b5df-7735dcea21e3"
      },
      "outputs": [
        {
          "data": {
            "text/plain": [
              "dict_values(['Flutter wave', 'Opay', 'Palm Pay', 'Chipper Cash', 'Interswitch', 'PiggyVest', 'Paga', 'Kuda bank'])"
            ]
          },
          "execution_count": 88,
          "metadata": {},
          "output_type": "execute_result"
        }
      ],
      "source": [
        "dict_app = {} \n",
        "for i in range(8):\n",
        "  dict_app[app_package_id[i]] = name_of_fintech[i]\n",
        "dict_app.values()"
      ]
    },
    {
      "cell_type": "code",
      "execution_count": 89,
      "metadata": {
        "colab": {
          "base_uri": "https://localhost:8080/",
          "height": 632
        },
        "id": "UcVYkJSyjuO3",
        "outputId": "48f06965-cef2-42ff-af2e-59cf40f23d96"
      },
      "outputs": [
        {
          "data": {
            "text/plain": [
              "<matplotlib.axes._subplots.AxesSubplot at 0x7f0c46fa2990>"
            ]
          },
          "execution_count": 89,
          "metadata": {},
          "output_type": "execute_result"
        },
        {
          "data": {
            "image/png": "[encoded data removed]",
            "text/plain": [
              "<Figure size 720x576 with 1 Axes>"
            ]
          },
          "metadata": {},
          "output_type": "display_data"
        }
      ],
      "source": [
        "app_count.plot(\n",
        "kind = 'bar',\n",
        "rot = 45,\n",
        "figsize = (10,8),\n",
        "ylim = (1500, 3050),\n",
        "title = 'The frequency of Review Scraped for each FinTech App',\n",
        "xlabel = 'App IDs',\n",
        "ylabel = 'Frequency'\n",
        ")"
      ]
    },
    {
      "cell_type": "code",
      "execution_count": 90,
      "metadata": {
        "colab": {
          "base_uri": "https://localhost:8080/"
        },
        "id": "ll54CA9dhGjy",
        "outputId": "153df01b-c395-4425-9e56-2ce3f2229b66"
      },
      "outputs": [
        {
          "data": {
            "text/plain": [
              "3    6544\n",
              "1    4000\n",
              "5    4000\n",
              "4    3882\n",
              "2    3506\n",
              "Name: score, dtype: int64"
            ]
          },
          "execution_count": 90,
          "metadata": {},
          "output_type": "execute_result"
        }
      ],
      "source": [
        "# check the proportional of each ratings\n",
        "rating_count = app_reviews_df.score.value_counts()\n",
        "rating_count"
      ]
    },
    {
      "cell_type": "code",
      "execution_count": 91,
      "metadata": {
        "colab": {
          "base_uri": "https://localhost:8080/",
          "height": 537
        },
        "id": "wmohV3c8hXT2",
        "outputId": "50c1b485-7540-4cc1-b9fe-071ad034d8cc"
      },
      "outputs": [
        {
          "data": {
            "text/plain": [
              "<matplotlib.axes._subplots.AxesSubplot at 0x7f0c45ce34d0>"
            ]
          },
          "execution_count": 91,
          "metadata": {},
          "output_type": "execute_result"
        },
        {
          "data": {
            "image/png": "[encoded data removed]",
            "text/plain": [
              "<Figure size 720x576 with 1 Axes>"
            ]
          },
          "metadata": {},
          "output_type": "display_data"
        }
      ],
      "source": [
        "rating_count.plot(\n",
        "kind = 'bar',\n",
        "rot = 45,\n",
        "figsize = (10,8),\n",
        "ylim = (3000, 7000),\n",
        "title = 'The frequency of Rating Scraped from the reviews',\n",
        "ylabel = 'Frequency',\n",
        "xlabel= 'Rating'\n",
        ")"
      ]
    },
    {
      "cell_type": "markdown",
      "metadata": {
        "id": "-QvlFLj7nK3d"
      },
      "source": [
        "SAVE THE DATAFRAME INTO CSV FOR DOWNLOAD"
      ]
    },
    {
      "cell_type": "code",
      "execution_count": 92,
      "metadata": {
        "id": "6wJawBOxm5Eq"
      },
      "outputs": [],
      "source": [
        "# save dataframe to csv\n",
        "app_reviews_df.to_csv('reviews.csv', index = False, header = True)"
      ]
    },
    {
      "cell_type": "code",
      "execution_count": null,
      "metadata": {
        "id": "Tmgy3BjQn4lH"
      },
      "outputs": [],
      "source": []
    }
  ],
  "metadata": {
    "colab": {
      "collapsed_sections": [],
      "name": "review_scraper.ipynb",
      "provenance": []
    },
    "kernelspec": {
      "display_name": "Python 3",
      "name": "python3"
    },
    "language_info": {
      "name": "python"
    }
  },
  "nbformat": 4,
  "nbformat_minor": 0
}
